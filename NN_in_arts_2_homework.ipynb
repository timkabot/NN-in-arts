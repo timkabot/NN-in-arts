{
  "nbformat": 4,
  "nbformat_minor": 0,
  "metadata": {
    "colab": {
      "name": "NN in arts 2 homework.ipynb",
      "provenance": [],
      "collapsed_sections": [],
      "toc_visible": true,
      "include_colab_link": true
    },
    "kernelspec": {
      "name": "python3",
      "display_name": "Python 3"
    },
    "accelerator": "GPU"
  },
  "cells": [
    {
      "cell_type": "markdown",
      "metadata": {
        "id": "view-in-github",
        "colab_type": "text"
      },
      "source": [
        "<a href=\"https://colab.research.google.com/github/timkabot/NN-in-arts/blob/main/NN_in_arts_2_homework.ipynb\" target=\"_parent\"><img src=\"https://colab.research.google.com/assets/colab-badge.svg\" alt=\"Open In Colab\"/></a>"
      ]
    },
    {
      "cell_type": "markdown",
      "metadata": {
        "id": "Ma4TVFwUOTFJ"
      },
      "source": [
        "# Training GANs\n"
      ]
    },
    {
      "cell_type": "code",
      "metadata": {
        "id": "Rm_MAQySKsYc"
      },
      "source": [
        "%matplotlib inline\n",
        "import matplotlib.pyplot as plt\n",
        "import numpy as np\n",
        "from IPython.display import clear_output"
      ],
      "execution_count": null,
      "outputs": []
    },
    {
      "cell_type": "markdown",
      "metadata": {
        "id": "3FvH6b8bQGe7"
      },
      "source": [
        "**Obtain the mighty MNIST**"
      ]
    },
    {
      "cell_type": "code",
      "metadata": {
        "id": "hOlUfk87QB5-",
        "colab": {
          "base_uri": "https://localhost:8080/",
          "height": 272
        },
        "outputId": "540de5d6-0dbc-47b9-d682-14d838c22cf5"
      },
      "source": [
        "import torch\n",
        "import torchvision.datasets as dsets\n",
        "import torchvision.transforms as transforms\n",
        "\n",
        "input_size = 784\n",
        "num_classes = 10\n",
        "\n",
        "batch_size = 256\n",
        "\n",
        "train_data = dsets.MNIST(root='./MNIST/', train=True, \n",
        "                            transform=transforms.ToTensor(),\n",
        "                            download=True)\n",
        "\n",
        "test_data = dsets.MNIST(root='./MNIST/', train=False, \n",
        "                           transform=transforms.ToTensor())\n",
        "\n",
        "\n",
        "train_data_loader = torch.utils.data.DataLoader(dataset=train_data, \n",
        "                                                batch_size=batch_size,\n",
        "                                                drop_last=True)\n",
        "\n",
        "test_data_loader = torch.utils.data.DataLoader(dataset=test_data, \n",
        "                                               batch_size=batch_size,\n",
        "                                               drop_last=True)"
      ],
      "execution_count": null,
      "outputs": [
        {
          "output_type": "stream",
          "text": [
            "  0%|          | 0/9912422 [00:00<?, ?it/s]"
          ],
          "name": "stderr"
        },
        {
          "output_type": "stream",
          "text": [
            "Downloading http://yann.lecun.com/exdb/mnist/train-images-idx3-ubyte.gz to ./MNIST/MNIST/raw/train-images-idx3-ubyte.gz\n"
          ],
          "name": "stdout"
        },
        {
          "output_type": "stream",
          "text": [
            "9920512it [00:07, 1318137.56it/s]                             \n"
          ],
          "name": "stderr"
        },
        {
          "output_type": "stream",
          "text": [
            "Extracting ./MNIST/MNIST/raw/train-images-idx3-ubyte.gz to ./MNIST/MNIST/raw\n"
          ],
          "name": "stdout"
        },
        {
          "output_type": "stream",
          "text": [
            "32768it [00:00, 303013.30it/s]                           \n",
            "0it [00:00, ?it/s]"
          ],
          "name": "stderr"
        },
        {
          "output_type": "stream",
          "text": [
            "Downloading http://yann.lecun.com/exdb/mnist/train-labels-idx1-ubyte.gz to ./MNIST/MNIST/raw/train-labels-idx1-ubyte.gz\n",
            "Extracting ./MNIST/MNIST/raw/train-labels-idx1-ubyte.gz to ./MNIST/MNIST/raw\n",
            "Downloading http://yann.lecun.com/exdb/mnist/t10k-images-idx3-ubyte.gz to ./MNIST/MNIST/raw/t10k-images-idx3-ubyte.gz\n"
          ],
          "name": "stdout"
        },
        {
          "output_type": "stream",
          "text": [
            "1654784it [00:00, 1907193.23it/s]                            \n",
            "8192it [00:00, 111026.25it/s]\n"
          ],
          "name": "stderr"
        },
        {
          "output_type": "stream",
          "text": [
            "Extracting ./MNIST/MNIST/raw/t10k-images-idx3-ubyte.gz to ./MNIST/MNIST/raw\n",
            "Downloading http://yann.lecun.com/exdb/mnist/t10k-labels-idx1-ubyte.gz to ./MNIST/MNIST/raw/t10k-labels-idx1-ubyte.gz\n",
            "Extracting ./MNIST/MNIST/raw/t10k-labels-idx1-ubyte.gz to ./MNIST/MNIST/raw\n",
            "Processing...\n",
            "Done!\n"
          ],
          "name": "stdout"
        }
      ]
    },
    {
      "cell_type": "markdown",
      "metadata": {
        "id": "noq7pw2CRXCv"
      },
      "source": [
        "Basic visualization"
      ]
    },
    {
      "cell_type": "code",
      "metadata": {
        "id": "XF61hmaVRWov"
      },
      "source": [
        "import torchvision\n",
        "\n",
        "def my_imshow(images):\n",
        "    grid = torchvision.utils.make_grid(images)\n",
        "    plt.imshow(np.transpose(grid.numpy(), (1, 2, 0)))\n",
        "    plt.axis('off')\n",
        "    plt.show()"
      ],
      "execution_count": null,
      "outputs": []
    },
    {
      "cell_type": "code",
      "metadata": {
        "id": "YWSWvJGLRe6y",
        "colab": {
          "base_uri": "https://localhost:8080/",
          "height": 139
        },
        "outputId": "569e5563-8c4e-4bb6-9ded-cd7a57a2e985"
      },
      "source": [
        "number_of_samples = 5\n",
        "\n",
        "images, labels = iter(test_data_loader).next()\n",
        "images = images[:number_of_samples]\n",
        "labels = labels[:number_of_samples]\n",
        "\n",
        "my_imshow(images)\n",
        "print(labels.numpy())"
      ],
      "execution_count": null,
      "outputs": [
        {
          "output_type": "display_data",
          "data": {
            "image/png": "[encoded data removed]",
            "text/plain": [
              "<Figure size 432x288 with 1 Axes>"
            ]
          },
          "metadata": {
            "tags": []
          }
        },
        {
          "output_type": "stream",
          "text": [
            "[7 2 1 0 4]\n"
          ],
          "name": "stdout"
        }
      ]
    },
    {
      "cell_type": "markdown",
      "metadata": {
        "id": "Sw3ZPgvpU4Su"
      },
      "source": [
        "## Building the Network\n",
        "\n",
        "### VanillaGAN"
      ]
    },
    {
      "cell_type": "code",
      "metadata": {
        "id": "rhDjQhAUQluj"
      },
      "source": [
        "import torch.nn as nn\n",
        "import torch.nn.functional as F\n",
        "import torch.optim as optim\n",
        "from torch.utils.data.sampler import Sampler, BatchSampler\n",
        "from torch.nn.modules.loss import MSELoss\n",
        "\n",
        "class Generator(nn.Module):\n",
        "    \"\"\"\n",
        "        Vanilla Generator --> fully-connected layers\n",
        "    \"\"\"\n",
        "    def __init__(self, input_size=128, num_classes=784):\n",
        "        super(Generator, self).__init__()\n",
        "        self.net = nn.Sequential(\n",
        "            nn.Linear(input_size, 128),\n",
        "            nn.LeakyReLU(0.2),\n",
        "            nn.Linear(128, 256),\n",
        "            nn.BatchNorm1d(256),\n",
        "            nn.LeakyReLU(0.2),\n",
        "            nn.Linear(256, 512),\n",
        "            nn.BatchNorm1d(512),\n",
        "            nn.LeakyReLU(0.2),\n",
        "            nn.Linear(512, 1024),\n",
        "            nn.BatchNorm1d(1024),\n",
        "            nn.LeakyReLU(0.2),\n",
        "            nn.Linear(1024, num_classes),\n",
        "            nn.Tanh()\n",
        "        )\n",
        "        self.input_size = input_size\n",
        "        \n",
        "    def forward(self, x):\n",
        "        output = self.net(x)\n",
        "        return output.view(-1, 1, 28, 28)"
      ],
      "execution_count": null,
      "outputs": []
    },
    {
      "cell_type": "code",
      "metadata": {
        "id": "BH4MaSJkfaSa"
      },
      "source": [
        "class Discriminator(nn.Module):\n",
        "    \"\"\"\n",
        "        Vanilla Generator --> fully-connected layers\n",
        "    \"\"\"\n",
        "    def __init__(self, input_size=784, num_classes=1):\n",
        "        super(Discriminator, self).__init__()\n",
        "        self.net = nn.Sequential(\n",
        "            nn.Linear(input_size, 512),\n",
        "            nn.LeakyReLU(0.2),\n",
        "            nn.Linear(512, 256),\n",
        "            nn.LeakyReLU(0.2),\n",
        "            nn.Linear(256, num_classes),\n",
        "            nn.Sigmoid(),\n",
        "        )\n",
        "    \n",
        "    def forward(self, x):\n",
        "        flatten = x.view(x.size(0), -1)\n",
        "        output = self.net(flatten)\n",
        "        return output"
      ],
      "execution_count": null,
      "outputs": []
    },
    {
      "cell_type": "markdown",
      "metadata": {
        "id": "EgsaoNHBhYOt"
      },
      "source": [
        "### Defining the loss function"
      ]
    },
    {
      "cell_type": "code",
      "metadata": {
        "id": "XunD_9H5hYbu"
      },
      "source": [
        "def losses(G, D, x_batch, criterion):\n",
        "    z = torch.randn(batch_size, G.input_size).to(device)\n",
        "    generated = G(z)\n",
        "\n",
        "    trues = torch.ones(x_batch.shape[0], 1).to(device)\n",
        "    falses = torch.zeros(x_batch.shape[0], 1).to(device)\n",
        "    \n",
        "    fake = D(generated)\n",
        "    true = D(x_batch.to(device))\n",
        "      \n",
        "    loss_fake, loss_true = criterion(fake, falses), criterion(true, trues)\n",
        "    D_loss = loss_fake + loss_true\n",
        "    \n",
        "    G_loss = criterion(fake, trues)\n",
        "    \n",
        "    return D_loss, G_loss\n",
        "    "
      ],
      "execution_count": null,
      "outputs": []
    },
    {
      "cell_type": "markdown",
      "metadata": {
        "id": "44GLlythgdbK"
      },
      "source": [
        "### Training process\n",
        "\n",
        "Keep in mind, that sometimes we are need to train Discriminator and Generator at different speed aka. with different ratios. But for now let's keep it simple."
      ]
    },
    {
      "cell_type": "code",
      "metadata": {
        "id": "onVQEBhhgc_p"
      },
      "source": [
        "from tqdm import trange\n",
        "\n",
        "def train_epoch(G, D, G_opt, D_opt, criterion, batch_size=32):\n",
        "    \n",
        "    G_loss_log = [] \n",
        "    D_loss_log = []\n",
        "    \n",
        "    G.train()\n",
        "    for batch_num, (images, _) in zip(trange(len(train_data_loader)), \n",
        "                                            train_data_loader):\n",
        "        x_batch = images.float()\n",
        "        D_loss, G_loss = losses(G, D, x_batch, criterion)\n",
        "            \n",
        "        D_opt.zero_grad()\n",
        "        D_loss.backward(retain_graph=True)\n",
        "        D_opt.step()\n",
        "        \n",
        "        G_opt.zero_grad()\n",
        "        G_loss.backward()\n",
        "        G_opt.step()\n",
        "            \n",
        "        D_loss_log += [D_loss.item()]\n",
        "        G_loss_log += [G_loss.item()]\n",
        "        \n",
        "    return D_loss_log, G_loss_log "
      ],
      "execution_count": null,
      "outputs": []
    },
    {
      "cell_type": "markdown",
      "metadata": {
        "id": "0xqWgBzGnXm9"
      },
      "source": [
        "#### Implement Test Function"
      ]
    },
    {
      "cell_type": "code",
      "metadata": {
        "id": "4AMy2KQ9m1dB"
      },
      "source": [
        "def test_batch(G, D, criterion):\n",
        "  \n",
        "    G_loss_log = [] \n",
        "    D_loss_log = []\n",
        "    \n",
        "    G.eval()\n",
        "    for batch_num, (x_batch, y_batch) in enumerate(test_data_loader):\n",
        "        D_loss, G_loss = losses(G, D, x_batch, criterion)\n",
        "        \n",
        "        D_loss_log += [D_loss.item()]\n",
        "        G_loss_log += [G_loss.item()]\n",
        "    return D_loss_log, G_loss_log "
      ],
      "execution_count": null,
      "outputs": []
    },
    {
      "cell_type": "markdown",
      "metadata": {
        "id": "Vsj0LM5tnowA"
      },
      "source": [
        "#### Implement Loss Function Visualisation"
      ]
    },
    {
      "cell_type": "code",
      "metadata": {
        "id": "8yi5Ptunohp9"
      },
      "source": [
        "def plot_history(train_history, val_history, title='loss'):\n",
        "    plt.figure(figsize=(8, 4))\n",
        "    \n",
        "    plt.subplot(1, 2, 1)\n",
        "    plt.plot(train_history[0], label='train', zorder=1)\n",
        "    points = np.array(val_history)\n",
        "    plt.scatter(points[:, 0], points[:, 1], marker='+', s=180, c='orange', label='val', zorder=2)\n",
        "    plt.title('Discriminator loss')\n",
        "    plt.xlabel('train steps')\n",
        "    plt.legend(loc='best')\n",
        "    plt.grid()\n",
        "    \n",
        "    plt.subplot(1, 2, 2)\n",
        "    plt.plot(train_history[1], label='train', zorder=1)\n",
        "    points = np.array(val_history)\n",
        "    plt.scatter(points[:, 0], points[:, 2], marker='+', s=180, c='orange', label='val', zorder=2)\n",
        "    plt.title('Model loss')\n",
        "    plt.xlabel('train steps')\n",
        "    plt.legend(loc='best')\n",
        "    plt.grid()\n",
        "    \n",
        "    plt.show()"
      ],
      "execution_count": null,
      "outputs": []
    },
    {
      "cell_type": "markdown",
      "metadata": {
        "id": "iS5CRfocom0b"
      },
      "source": [
        "### Finally train"
      ]
    },
    {
      "cell_type": "code",
      "metadata": {
        "id": "O8v11isDm3r9"
      },
      "source": [
        "def train(G, D, G_opt, D_opt, criterion, n_epochs):\n",
        "    train_log = [[], []]\n",
        "    val_log = []\n",
        "    \n",
        "    for epoch in range(n_epochs):\n",
        "        train_loss = train_epoch(G, D, G_opt, D_opt, criterion, batch_size=batch_size)\n",
        "        val_loss = test_batch(G, D, criterion)\n",
        "        \n",
        "        train_log[0].extend(train_loss[0])\n",
        "        train_log[1].extend(train_loss[1])\n",
        "        \n",
        "        steps = train_data.train_labels.shape[0] / batch_size\n",
        "        val_log.append((steps * (epoch + 1), np.mean(val_loss[0]), np.mean(val_loss[1])))\n",
        "        \n",
        "        clear_output()\n",
        "        plot_history(train_log, val_log)    "
      ],
      "execution_count": null,
      "outputs": []
    },
    {
      "cell_type": "markdown",
      "metadata": {
        "id": "Gp3Gz1xZf5q6"
      },
      "source": [
        "Check for GPU"
      ]
    },
    {
      "cell_type": "code",
      "metadata": {
        "id": "3Q8XudbBf7fS"
      },
      "source": [
        "device = torch.device(\"cuda\" if torch.cuda.is_available() else \"cpu\")"
      ],
      "execution_count": null,
      "outputs": []
    },
    {
      "cell_type": "markdown",
      "metadata": {
        "id": "t2vsBf5YfvwL"
      },
      "source": [
        "Define Generator & Discriminator & optimizers & criterion"
      ]
    },
    {
      "cell_type": "code",
      "metadata": {
        "id": "pZ1V9QRuqf1b",
        "colab": {
          "base_uri": "https://localhost:8080/",
          "height": 35
        },
        "outputId": "ef634f1c-a966-4dbf-ba50-045b5b36db0b"
      },
      "source": [
        "batch_size"
      ],
      "execution_count": null,
      "outputs": [
        {
          "output_type": "execute_result",
          "data": {
            "text/plain": [
              "256"
            ]
          },
          "metadata": {
            "tags": []
          },
          "execution_count": 17
        }
      ]
    },
    {
      "cell_type": "code",
      "metadata": {
        "id": "EY7zbWDyfsry",
        "colab": {
          "base_uri": "https://localhost:8080/",
          "height": 225
        },
        "outputId": "74d323bb-64a7-48f1-f810-23bef4f5abec"
      },
      "source": [
        "input_size = 128\n",
        "\n",
        "D = Discriminator().to(device)\n",
        "G = Generator(input_size).to(device)"
      ],
      "execution_count": null,
      "outputs": [
        {
          "output_type": "error",
          "ename": "NameError",
          "evalue": "ignored",
          "traceback": [
            "\u001b[0;31m---------------------------------------------------------------------------\u001b[0m",
            "\u001b[0;31mNameError\u001b[0m                                 Traceback (most recent call last)",
            "\u001b[0;32m<ipython-input-109-589ab2bdbc51>\u001b[0m in \u001b[0;36m<module>\u001b[0;34m()\u001b[0m\n\u001b[1;32m      1\u001b[0m \u001b[0minput_size\u001b[0m \u001b[0;34m=\u001b[0m \u001b[0;36m128\u001b[0m\u001b[0;34m\u001b[0m\u001b[0;34m\u001b[0m\u001b[0m\n\u001b[1;32m      2\u001b[0m \u001b[0;34m\u001b[0m\u001b[0m\n\u001b[0;32m----> 3\u001b[0;31m \u001b[0mD\u001b[0m \u001b[0;34m=\u001b[0m \u001b[0mDiscriminator\u001b[0m\u001b[0;34m(\u001b[0m\u001b[0;34m)\u001b[0m\u001b[0;34m.\u001b[0m\u001b[0mto\u001b[0m\u001b[0;34m(\u001b[0m\u001b[0mdevice\u001b[0m\u001b[0;34m)\u001b[0m\u001b[0;34m\u001b[0m\u001b[0;34m\u001b[0m\u001b[0m\n\u001b[0m\u001b[1;32m      4\u001b[0m \u001b[0mG\u001b[0m \u001b[0;34m=\u001b[0m \u001b[0mGenerator\u001b[0m\u001b[0;34m(\u001b[0m\u001b[0minput_size\u001b[0m\u001b[0;34m)\u001b[0m\u001b[0;34m.\u001b[0m\u001b[0mto\u001b[0m\u001b[0;34m(\u001b[0m\u001b[0mdevice\u001b[0m\u001b[0;34m)\u001b[0m\u001b[0;34m\u001b[0m\u001b[0;34m\u001b[0m\u001b[0m\n",
            "\u001b[0;31mNameError\u001b[0m: name 'Discriminator' is not defined"
          ]
        }
      ]
    },
    {
      "cell_type": "code",
      "metadata": {
        "id": "imhKP6UAf-F7",
        "colab": {
          "base_uri": "https://localhost:8080/",
          "height": 207
        },
        "outputId": "afcf847a-74c1-47ce-e922-cbbdf725292d"
      },
      "source": [
        "criterion = nn.BCELoss()\n",
        "D_opt = torch.optim.Adam(D.parameters(), lr=0.0002, betas=(0.5, 0.999))\n",
        "G_opt = torch.optim.Adam(G.parameters(), lr=0.0002, betas=(0.5, 0.999))"
      ],
      "execution_count": null,
      "outputs": [
        {
          "output_type": "error",
          "ename": "NameError",
          "evalue": "ignored",
          "traceback": [
            "\u001b[0;31m---------------------------------------------------------------------------\u001b[0m",
            "\u001b[0;31mNameError\u001b[0m                                 Traceback (most recent call last)",
            "\u001b[0;32m<ipython-input-18-1a822e4c9ce2>\u001b[0m in \u001b[0;36m<module>\u001b[0;34m()\u001b[0m\n\u001b[1;32m      1\u001b[0m \u001b[0mcriterion\u001b[0m \u001b[0;34m=\u001b[0m \u001b[0mnn\u001b[0m\u001b[0;34m.\u001b[0m\u001b[0mBCELoss\u001b[0m\u001b[0;34m(\u001b[0m\u001b[0;34m)\u001b[0m\u001b[0;34m\u001b[0m\u001b[0;34m\u001b[0m\u001b[0m\n\u001b[0;32m----> 2\u001b[0;31m \u001b[0mD_opt\u001b[0m \u001b[0;34m=\u001b[0m \u001b[0mtorch\u001b[0m\u001b[0;34m.\u001b[0m\u001b[0moptim\u001b[0m\u001b[0;34m.\u001b[0m\u001b[0mAdam\u001b[0m\u001b[0;34m(\u001b[0m\u001b[0mD\u001b[0m\u001b[0;34m.\u001b[0m\u001b[0mparameters\u001b[0m\u001b[0;34m(\u001b[0m\u001b[0;34m)\u001b[0m\u001b[0;34m,\u001b[0m \u001b[0mlr\u001b[0m\u001b[0;34m=\u001b[0m\u001b[0;36m0.0002\u001b[0m\u001b[0;34m,\u001b[0m \u001b[0mbetas\u001b[0m\u001b[0;34m=\u001b[0m\u001b[0;34m(\u001b[0m\u001b[0;36m0.5\u001b[0m\u001b[0;34m,\u001b[0m \u001b[0;36m0.999\u001b[0m\u001b[0;34m)\u001b[0m\u001b[0;34m)\u001b[0m\u001b[0;34m\u001b[0m\u001b[0;34m\u001b[0m\u001b[0m\n\u001b[0m\u001b[1;32m      3\u001b[0m \u001b[0mG_opt\u001b[0m \u001b[0;34m=\u001b[0m \u001b[0mtorch\u001b[0m\u001b[0;34m.\u001b[0m\u001b[0moptim\u001b[0m\u001b[0;34m.\u001b[0m\u001b[0mAdam\u001b[0m\u001b[0;34m(\u001b[0m\u001b[0mG\u001b[0m\u001b[0;34m.\u001b[0m\u001b[0mparameters\u001b[0m\u001b[0;34m(\u001b[0m\u001b[0;34m)\u001b[0m\u001b[0;34m,\u001b[0m \u001b[0mlr\u001b[0m\u001b[0;34m=\u001b[0m\u001b[0;36m0.0002\u001b[0m\u001b[0;34m,\u001b[0m \u001b[0mbetas\u001b[0m\u001b[0;34m=\u001b[0m\u001b[0;34m(\u001b[0m\u001b[0;36m0.5\u001b[0m\u001b[0;34m,\u001b[0m \u001b[0;36m0.999\u001b[0m\u001b[0;34m)\u001b[0m\u001b[0;34m)\u001b[0m\u001b[0;34m\u001b[0m\u001b[0;34m\u001b[0m\u001b[0m\n",
            "\u001b[0;31mNameError\u001b[0m: name 'D' is not defined"
          ]
        }
      ]
    },
    {
      "cell_type": "code",
      "metadata": {
        "id": "UHghD2R9o3WN",
        "colab": {
          "base_uri": "https://localhost:8080/",
          "height": 295
        },
        "outputId": "8521d6b6-253b-4764-f160-b6eac66cfe0c"
      },
      "source": [
        "train(G, D, G_opt, D_opt, criterion, 3)"
      ],
      "execution_count": null,
      "outputs": [
        {
          "output_type": "display_data",
          "data": {
            "image/png": "[encoded data removed]",
            "text/plain": [
              "<Figure size 576x288 with 2 Axes>"
            ]
          },
          "metadata": {
            "tags": []
          }
        }
      ]
    },
    {
      "cell_type": "code",
      "metadata": {
        "id": "fI9zonwKy8Sm",
        "colab": {
          "base_uri": "https://localhost:8080/",
          "height": 244
        },
        "outputId": "ff405e55-40ec-4b6a-c61c-0b0d478f3a8f"
      },
      "source": [
        "number_of_samples = 5\n",
        "\n",
        "images, _ = iter(test_data_loader).next()\n",
        "z = torch.randn(number_of_samples, G.input_size).to(device)\n",
        "gen_images = G(z)\n",
        "images = images[:number_of_samples]\n",
        "\n",
        "imshow(images)\n",
        "imshow(gen_images.detach())\n"
      ],
      "execution_count": null,
      "outputs": [
        {
          "output_type": "error",
          "ename": "NameError",
          "evalue": "ignored",
          "traceback": [
            "\u001b[0;31m---------------------------------------------------------------------------\u001b[0m",
            "\u001b[0;31mNameError\u001b[0m                                 Traceback (most recent call last)",
            "\u001b[0;32m<ipython-input-19-8c869a15a005>\u001b[0m in \u001b[0;36m<module>\u001b[0;34m()\u001b[0m\n\u001b[1;32m      2\u001b[0m \u001b[0;34m\u001b[0m\u001b[0m\n\u001b[1;32m      3\u001b[0m \u001b[0mimages\u001b[0m\u001b[0;34m,\u001b[0m \u001b[0m_\u001b[0m \u001b[0;34m=\u001b[0m \u001b[0miter\u001b[0m\u001b[0;34m(\u001b[0m\u001b[0mtest_data_loader\u001b[0m\u001b[0;34m)\u001b[0m\u001b[0;34m.\u001b[0m\u001b[0mnext\u001b[0m\u001b[0;34m(\u001b[0m\u001b[0;34m)\u001b[0m\u001b[0;34m\u001b[0m\u001b[0;34m\u001b[0m\u001b[0m\n\u001b[0;32m----> 4\u001b[0;31m \u001b[0mz\u001b[0m \u001b[0;34m=\u001b[0m \u001b[0mtorch\u001b[0m\u001b[0;34m.\u001b[0m\u001b[0mrandn\u001b[0m\u001b[0;34m(\u001b[0m\u001b[0mnumber_of_samples\u001b[0m\u001b[0;34m,\u001b[0m \u001b[0mG\u001b[0m\u001b[0;34m.\u001b[0m\u001b[0minput_size\u001b[0m\u001b[0;34m)\u001b[0m\u001b[0;34m.\u001b[0m\u001b[0mto\u001b[0m\u001b[0;34m(\u001b[0m\u001b[0mdevice\u001b[0m\u001b[0;34m)\u001b[0m\u001b[0;34m\u001b[0m\u001b[0;34m\u001b[0m\u001b[0m\n\u001b[0m\u001b[1;32m      5\u001b[0m \u001b[0mgen_images\u001b[0m \u001b[0;34m=\u001b[0m \u001b[0mG\u001b[0m\u001b[0;34m(\u001b[0m\u001b[0mz\u001b[0m\u001b[0;34m)\u001b[0m\u001b[0;34m\u001b[0m\u001b[0;34m\u001b[0m\u001b[0m\n\u001b[1;32m      6\u001b[0m \u001b[0mimages\u001b[0m \u001b[0;34m=\u001b[0m \u001b[0mimages\u001b[0m\u001b[0;34m[\u001b[0m\u001b[0;34m:\u001b[0m\u001b[0mnumber_of_samples\u001b[0m\u001b[0;34m]\u001b[0m\u001b[0;34m\u001b[0m\u001b[0;34m\u001b[0m\u001b[0m\n",
            "\u001b[0;31mNameError\u001b[0m: name 'G' is not defined"
          ]
        }
      ]
    },
    {
      "cell_type": "markdown",
      "metadata": {
        "id": "xaDh3yJY6FCZ"
      },
      "source": [
        "resourses: **[eriklindernoren](https://github.com/eriklindernoren/PyTorch-GAN)**, **[Yangyangii](https://github.com/Yangyangii/GAN-Tutorial)**, **aosokin**"
      ]
    },
    {
      "cell_type": "markdown",
      "metadata": {
        "id": "VxVDLrJ5u58e"
      },
      "source": [
        "# HomeTask 1\n",
        "\n",
        "Implement a DCGAN"
      ]
    },
    {
      "cell_type": "code",
      "metadata": {
        "id": "a5j-LBQMkuR9"
      },
      "source": [
        "import torch.nn as nn\n",
        "import torch.nn.functional as F\n",
        "from torchvision.utils import save_image\n",
        "\n",
        "import numpy as np\n",
        "import datetime\n",
        "import os, sys"
      ],
      "execution_count": null,
      "outputs": []
    },
    {
      "cell_type": "code",
      "metadata": {
        "id": "9DFgFo_dZSoR"
      },
      "source": [
        "def get_sample_image(G, n_noise):\n",
        "    \"\"\"\n",
        "        save sample 100 images\n",
        "    \"\"\"\n",
        "    z = torch.randn(128, n_noise).to(device)\n",
        "\n",
        "    y_hat = G(z).view(100, 28, 28) # (100, 28, 28)\n",
        "    result = y_hat.cpu().data.numpy()\n",
        "    img = np.zeros([280, 280])\n",
        "    for j in range(10):\n",
        "        img[j*28:(j+1)*28] = np.concatenate([x for x in result[j*10:(j+1)*10]], axis=-1)\n",
        "    return img"
      ],
      "execution_count": null,
      "outputs": []
    },
    {
      "cell_type": "code",
      "metadata": {
        "id": "VSJLI5WgvS-3"
      },
      "source": [
        "class dcGenerator(nn.Module):\n",
        "    \"\"\"\n",
        "        Convolutional Generator for MNIST\n",
        "    \"\"\"\n",
        "    def __init__(self, input_size=128, num_classes=784):\n",
        "        super(dcGenerator, self).__init__()\n",
        "        self.fc = nn.Sequential(\n",
        "            nn.Linear(input_size, 4*4*512),\n",
        "            nn.ReLU(),\n",
        "        )\n",
        "        self.conv = nn.Sequential(\n",
        "            # input: 4 by 4, output: 7 by 7\n",
        "            nn.ConvTranspose2d(512, 256, 3, stride=2, padding=1, bias=False),\n",
        "            nn.BatchNorm2d(256),\n",
        "            nn.ReLU(),\n",
        "            # input: 7 by 7, output: 14 by 14\n",
        "            nn.ConvTranspose2d(256, 128, 4, stride=2, padding=1, bias=False),\n",
        "            nn.BatchNorm2d(128),\n",
        "            nn.ReLU(),\n",
        "            # input: 14 by 14, output: 28 by 28\n",
        "            nn.ConvTranspose2d(128, 1, 4, stride=2, padding=1, bias=False),\n",
        "            nn.Tanh(),\n",
        "        )\n",
        "        self.input_size = input_size\n",
        "        \n",
        "    def forward(self, x, y=None):\n",
        "        x = x.view(x.size(0), -1)\n",
        "        y_ = self.fc(x)\n",
        "        y_ = y_.view(y_.size(0), 512, 4, 4)\n",
        "        y_ = self.conv(y_)\n",
        "        return y_"
      ],
      "execution_count": null,
      "outputs": []
    },
    {
      "cell_type": "code",
      "metadata": {
        "id": "5to1cHTovdzo"
      },
      "source": [
        "\n",
        "class dcDiscriminator(nn.Module):\n",
        "    \"\"\"\n",
        "        Convolutional Discriminator for MNIST\n",
        "    \"\"\"\n",
        "    def __init__(self, in_channel=1, num_classes=1):\n",
        "        super(dcDiscriminator, self).__init__()\n",
        "        self.conv = nn.Sequential(\n",
        "            # 28 -> 14\n",
        "            nn.Conv2d(in_channel, 512, 3, stride=2, padding=1, bias=False),\n",
        "            nn.BatchNorm2d(512),\n",
        "            nn.LeakyReLU(0.2),\n",
        "            # 14 -> 7\n",
        "            nn.Conv2d(512, 256, 3, stride=2, padding=1, bias=False),\n",
        "            nn.BatchNorm2d(256),\n",
        "            nn.LeakyReLU(0.2),\n",
        "            # 7 -> 4\n",
        "            nn.Conv2d(256, 128, 3, stride=2, padding=1, bias=False),\n",
        "            nn.BatchNorm2d(128),\n",
        "            nn.LeakyReLU(0.2),\n",
        "            nn.AvgPool2d(4),\n",
        "        )\n",
        "        self.fc = nn.Sequential(\n",
        "            # reshape input, 128 -> 1\n",
        "            nn.Linear(128, 1),\n",
        "            nn.Sigmoid(),\n",
        "        )\n",
        "    \n",
        "    def forward(self, x, y=None):\n",
        "        y_ = self.conv(x)\n",
        "        y_ = y_.view(y_.size(0), -1)\n",
        "        y_ = self.fc(y_)\n",
        "        return y_"
      ],
      "execution_count": null,
      "outputs": []
    },
    {
      "cell_type": "code",
      "metadata": {
        "id": "4AS67RCTYOHt"
      },
      "source": [
        "from matplotlib.pyplot import imshow, imsave\n",
        "%matplotlib inline"
      ],
      "execution_count": null,
      "outputs": []
    },
    {
      "cell_type": "markdown",
      "metadata": {
        "id": "eY0fi_XmvkKk"
      },
      "source": [
        "# HomeTask 2\n",
        "\n",
        "Compare the learning process and final images to a fully-connected GAN"
      ]
    },
    {
      "cell_type": "code",
      "metadata": {
        "id": "MrrngotXvrU2"
      },
      "source": [
        "\n",
        "input_size = 128\n",
        "D = dcDiscriminator().to(device)\n",
        "G = dcGenerator(input_size).to(device)\n",
        "criterion = nn.BCELoss()\n",
        "D_opt = torch.optim.Adam(D.parameters(), lr=0.001, betas=(0.5, 0.999))\n",
        "G_opt = torch.optim.Adam(G.parameters(), lr=0.001, betas=(0.5, 0.999))\n",
        "\n",
        "D_labels = torch.ones([batch_size, 1]).to(device) # Discriminator Label to real\n",
        "D_fakes = torch.zeros([batch_size, 1]).to(device) # Discriminator Label to fake"
      ],
      "execution_count": null,
      "outputs": []
    },
    {
      "cell_type": "code",
      "metadata": {
        "id": "gtu8lqFXJTB3",
        "colab": {
          "base_uri": "https://localhost:8080/",
          "height": 35
        },
        "outputId": "a970298e-eabb-4318-aefc-c23d809b2422"
      },
      "source": [
        "batch_size"
      ],
      "execution_count": null,
      "outputs": [
        {
          "output_type": "execute_result",
          "data": {
            "text/plain": [
              "256"
            ]
          },
          "metadata": {
            "tags": []
          },
          "execution_count": 26
        }
      ]
    },
    {
      "cell_type": "code",
      "metadata": {
        "id": "GlYzLrbFlLih",
        "colab": {
          "base_uri": "https://localhost:8080/",
          "height": 295
        },
        "outputId": "4686327d-e647-4077-a485-b81db5e6c088"
      },
      "source": [
        "train(G, D, G_opt, D_opt, criterion, 20)"
      ],
      "execution_count": null,
      "outputs": [
        {
          "output_type": "display_data",
          "data": {
            "image/png": "[encoded data removed]",
            "text/plain": [
              "<Figure size 576x288 with 2 Axes>"
            ]
          },
          "metadata": {
            "tags": []
          }
        }
      ]
    },
    {
      "cell_type": "code",
      "metadata": {
        "id": "BBYRiQJ_Inhm"
      },
      "source": [
        "def my_imshow(images):\n",
        "    grid = torchvision.utils.make_grid(images)\n",
        "    plt.imshow(np.transpose(grid.cpu().numpy(), (1, 2, 0)))\n",
        "    plt.axis('off')\n",
        "    plt.show()"
      ],
      "execution_count": null,
      "outputs": []
    },
    {
      "cell_type": "code",
      "metadata": {
        "id": "dCbPsrtHpDTU",
        "colab": {
          "base_uri": "https://localhost:8080/",
          "height": 139
        },
        "outputId": "4c19f534-2eca-415a-e0fb-6cf8d373e251"
      },
      "source": [
        "from matplotlib.pyplot import imshow, imsave\n",
        "\n",
        "# generation to image\n",
        "n_noise = 100\n",
        "G.eval()\n",
        "z = torch.randn(number_of_samples, G.input_size).to(device)\n",
        "gen_images = G(z)\n",
        "gen_images.shape\n",
        "my_imshow(gen_images.detach())\n",
        "#imshow(get_sample_image(G, n_noise), cmap='gray')\n"
      ],
      "execution_count": null,
      "outputs": [
        {
          "output_type": "stream",
          "text": [
            "Clipping input data to the valid range for imshow with RGB data ([0..1] for floats or [0..255] for integers).\n"
          ],
          "name": "stderr"
        },
        {
          "output_type": "display_data",
          "data": {
            "image/png": "[encoded data removed]",
            "text/plain": [
              "<Figure size 432x288 with 1 Axes>"
            ]
          },
          "metadata": {
            "tags": []
          }
        }
      ]
    },
    {
      "cell_type": "markdown",
      "metadata": {
        "id": "jO3wtO3K74TJ"
      },
      "source": [
        ""
      ]
    },
    {
      "cell_type": "markdown",
      "metadata": {
        "id": "Fc6nqTjB7yVH"
      },
      "source": [
        "\n",
        "## A Generative Adversarial Network (GAN) takes the idea of using a generator model to generate fake examples and discrimator model that tries to decide if the image it receives is a fake (i.e. from the generator) or a real sample. This was originally shown with relatively simple fully connected networks.\n",
        "\n",
        "## A Deep Convolution GAN (DCGAN) does something very similar, but specifically focusses on using Deep Convolutional networks in place of those fully-connected networks. Conv nets in general find areas of correlation within an image, that is, they look for spatial correlations. This means a DCGAN would likely be more fitting for image/video data, whereas the general idea of a GAN can be applied to wider domains, as the model specifics are left open to be addressed by individual model architectures.\n",
        "\n",
        "## The linked paper that proposed DCGANs specifically raises the topic of unsupervised-learning, and essentially wanted to marry the (at the time) recent success of conv nets with the new idea of GANs.\n",
        "\n",
        "## Regarding dimensions - I don't think the dimensions of your data would dictate which of the two variants to go for, other than of course influencing things that we always have to consider, such as training time, model complexity, capacity to learn and so on. \n",
        "\n",
        "## On such simple dataset as MNIST there isn't big difference in generated images"
      ]
    },
    {
      "cell_type": "markdown",
      "metadata": {
        "id": "kG_x9Jtbv5Le"
      },
      "source": [
        "## Conditional GANs"
      ]
    },
    {
      "cell_type": "code",
      "metadata": {
        "id": "ipYlDKQsv4yU"
      },
      "source": [
        "class cGenerator(nn.Module):\n",
        "    \"\"\"\n",
        "        Conditional GAN generator --> concated input\n",
        "    \"\"\"\n",
        "    def __init__(self, input_size=100, condition_size=10, num_classes=784):\n",
        "        super(cGenerator, self).__init__()\n",
        "        self.net = nn.Sequential(\n",
        "            nn.Linear(input_size+condition_size, 128),\n",
        "            nn.LeakyReLU(0.2),\n",
        "            nn.Linear(128, 256),\n",
        "            nn.BatchNorm1d(256),\n",
        "            nn.LeakyReLU(0.2),\n",
        "            nn.Linear(256, 512),\n",
        "            nn.BatchNorm1d(512),\n",
        "            nn.LeakyReLU(0.2),\n",
        "            nn.Linear(512, 1024),\n",
        "            nn.BatchNorm1d(1024),\n",
        "            nn.LeakyReLU(0.2),\n",
        "            nn.Linear(1024, num_classes),\n",
        "            nn.Tanh()\n",
        "        )\n",
        "        self.input_size = input_size\n",
        "        \n",
        "        \n",
        "    def forward(self, x, c):\n",
        "        x, c = x.view(x.size(0), -1), c.view(c.size(0), -1).float()\n",
        "        v = torch.cat((x, c), 1)\n",
        "        output = self.net(v)\n",
        "        output = output.view(x.size(0), 1, 28, 28)\n",
        "        return output"
      ],
      "execution_count": null,
      "outputs": []
    },
    {
      "cell_type": "code",
      "metadata": {
        "id": "3ss7FjsOyZ7N"
      },
      "source": [
        "class cDiscriminator(nn.Module):\n",
        "    \"\"\"\n",
        "        Conditional GAN discriminator --> concated input\n",
        "    \"\"\"\n",
        "    def __init__(self, input_size=784, condition_size=10, num_classes=1):\n",
        "        super(cDiscriminator, self).__init__()\n",
        "        self.net = nn.Sequential(\n",
        "            nn.Linear(input_size+condition_size, 512),\n",
        "            nn.LeakyReLU(0.2),\n",
        "            nn.Linear(512, 256),\n",
        "            nn.LeakyReLU(0.2),\n",
        "            nn.Linear(256, num_classes),\n",
        "            nn.Sigmoid(),\n",
        "        )\n",
        "    \n",
        "    def forward(self, x, c):        \n",
        "        x, c = x.view(x.size(0), -1), c.view(c.size(0), -1).float()\n",
        "        v = torch.cat((x, c), 1)\n",
        "        output = self.net(v)\n",
        "        return output"
      ],
      "execution_count": null,
      "outputs": []
    },
    {
      "cell_type": "code",
      "metadata": {
        "id": "DcJ9JcM50CUu"
      },
      "source": [
        "def to_onehot(x, num_classes=10):\n",
        "    assert isinstance(x, int) or isinstance(x, (torch.LongTensor, torch.cuda.LongTensor))\n",
        "    if isinstance(x, int):\n",
        "        c = torch.zeros(1, num_classes).long()\n",
        "        c[0][x] = 1\n",
        "    else:\n",
        "        x = x.cpu()\n",
        "        c = torch.LongTensor(x.size(0), num_classes)\n",
        "        c.zero_()\n",
        "        c.scatter_(1, x, 1) # dim, index, src value\n",
        "    return c"
      ],
      "execution_count": null,
      "outputs": []
    },
    {
      "cell_type": "code",
      "metadata": {
        "id": "DkxuSbUyz04Y"
      },
      "source": [
        "condition_size = 10\n",
        "\n",
        "cD = cDiscriminator(condition_size=condition_size).to(device)\n",
        "cG = cGenerator(input_size, condition_size).to(device)\n",
        "\n",
        "criterion = nn.BCELoss()\n",
        "cD_opt = torch.optim.Adam(D.parameters(), lr=0.0002, betas=(0.5, 0.999))\n",
        "cG_opt = torch.optim.Adam(G.parameters(), lr=0.0002, betas=(0.5, 0.999))"
      ],
      "execution_count": null,
      "outputs": []
    },
    {
      "cell_type": "code",
      "metadata": {
        "id": "aB243zfC07YP"
      },
      "source": [
        "def losses(G, D, x_batch, labels, criterion):\n",
        "    z = torch.randn(batch_size, G.input_size).to(device)\n",
        "    cond = labels.view(batch_size, 1)\n",
        "    cond = to_onehot(cond).to(device)\n",
        "    \n",
        "    generated = G(z, cond)\n",
        "\n",
        "    trues = torch.ones(x_batch.shape[0], 1).to(device)\n",
        "    falses = torch.zeros(x_batch.shape[0], 1).to(device)\n",
        "    \n",
        "    fake = D(generated, cond)\n",
        "    true = D(x_batch.to(device), cond)\n",
        "      \n",
        "    loss_fake, loss_true = criterion(fake, falses), criterion(true, trues)\n",
        "    D_loss = loss_fake + loss_true\n",
        "    \n",
        "    G_loss = criterion(fake, trues)\n",
        "    \n",
        "    return D_loss, G_loss\n",
        "    \n",
        "\n",
        "def train_epoch(G, D, G_opt, D_opt, criterion, batch_size=32):\n",
        "    \n",
        "    G_loss_log = [] \n",
        "    D_loss_log = []\n",
        "    \n",
        "    G.train()\n",
        "    for batch_num, (images, labels) in zip(trange(len(train_data_loader)), \n",
        "                                                  train_data_loader):\n",
        "        x_batch = images.float()\n",
        "        D_loss, G_loss = losses(G, D, x_batch, labels, criterion)\n",
        "            \n",
        "        D_opt.zero_grad()\n",
        "        D_loss.backward(retain_graph=True)\n",
        "        D_opt.step()\n",
        "        \n",
        "        G_opt.zero_grad()\n",
        "        G_loss.backward()\n",
        "        G_opt.step()\n",
        "            \n",
        "        D_loss_log += [D_loss.item()]\n",
        "        G_loss_log += [G_loss.item()]\n",
        "        \n",
        "    return D_loss_log, G_loss_log \n",
        "  \n",
        "def test_batch(G, D, criterion):\n",
        "    G_loss_log = [] \n",
        "    D_loss_log = []\n",
        "    \n",
        "    G.eval()\n",
        "    for batch_num, (x_batch, y_batch) in enumerate(test_data_loader):\n",
        "        D_loss, G_loss = losses(G, D, x_batch, y_batch, criterion)\n",
        "        \n",
        "        D_loss_log += [D_loss.item()]\n",
        "        G_loss_log += [G_loss.item()]\n",
        "    return D_loss_log, G_loss_log "
      ],
      "execution_count": null,
      "outputs": []
    },
    {
      "cell_type": "code",
      "metadata": {
        "id": "v2dZro3nz84d",
        "colab": {
          "base_uri": "https://localhost:8080/",
          "height": 295
        },
        "outputId": "b252977c-d4b4-4d8b-cd31-2c50007dd27e"
      },
      "source": [
        "train(cG, cD, cG_opt, cD_opt, criterion, 3)"
      ],
      "execution_count": null,
      "outputs": [
        {
          "output_type": "display_data",
          "data": {
            "image/png": "[encoded data removed]",
            "text/plain": [
              "<Figure size 576x288 with 2 Axes>"
            ]
          },
          "metadata": {
            "tags": []
          }
        }
      ]
    },
    {
      "cell_type": "code",
      "metadata": {
        "id": "-cyIQ_JY0q1-",
        "colab": {
          "base_uri": "https://localhost:8080/",
          "height": 259
        },
        "outputId": "9ee51a55-ed10-44e8-d5b2-712ca755a5bf"
      },
      "source": [
        "number_of_samples = 5\n",
        "\n",
        "images, labels = iter(test_data_loader).next()\n",
        "labels = labels[:number_of_samples]\n",
        "cond = labels.view(number_of_samples, 1)\n",
        "cond = to_onehot(cond).to(device)\n",
        "z = torch.randn(num+ber_of_samples, cG.input_size).to(device)\n",
        "gen_images = cG(z, cond)\n",
        "images = images[:number_of_samples]\n",
        "\n",
        "imshow(images)\n",
        "imshow(gen_images.detach())\n",
        "print(labels)"
      ],
      "execution_count": null,
      "outputs": [
        {
          "output_type": "display_data",
          "data": {
            "image/png": "[encoded data removed]",
            "text/plain": [
              "<Figure size 432x288 with 1 Axes>"
            ]
          },
          "metadata": {
            "tags": []
          }
        },
        {
          "output_type": "stream",
          "text": [
            "Clipping input data to the valid range for imshow with RGB data ([0..1] for floats or [0..255] for integers).\n"
          ],
          "name": "stderr"
        },
        {
          "output_type": "display_data",
          "data": {
            "image/png": "[encoded data removed]",
            "text/plain": [
              "<Figure size 432x288 with 1 Axes>"
            ]
          },
          "metadata": {
            "tags": []
          }
        },
        {
          "output_type": "stream",
          "text": [
            "tensor([7, 2, 1, 0, 4])\n"
          ],
          "name": "stdout"
        }
      ]
    },
    {
      "cell_type": "markdown",
      "metadata": {
        "id": "uT7_VOL04CVF"
      },
      "source": [
        "# HomeTask 3\n",
        "\n",
        "Find/implement any other type of GAN ((almost) full list of pytorch implementations [here](https://github.com/eriklindernoren/PyTorch-GAN)). Train chosen GAN on any type of data (preferably something more complicated than MNIST, ideally -- your own dataset: your image class, syntetic images, etc). \n",
        "\n",
        "Play with arcitecture choises, number of epochs, otimazers, etc and come up with the model that suits your problem best. Write a conclusion on why the GANs are nessesarily in your task and why chosed GAN is better than everything else. "
      ]
    },
    {
      "cell_type": "markdown",
      "metadata": {
        "id": "IGTtJflQ8UfA"
      },
      "source": [
        ""
      ]
    },
    {
      "cell_type": "markdown",
      "metadata": {
        "id": "pQgEU0UT8XbZ"
      },
      "source": [
        "## Sent hometask 3 in telegram (Timur Borgalinov -> @timkabor )"
      ]
    }
  ]
}